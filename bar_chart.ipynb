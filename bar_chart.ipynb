{
 "cells": [
  {
   "cell_type": "code",
   "execution_count": 1,
   "metadata": {},
   "outputs": [],
   "source": [
    "import pandas as pd\n",
    "import dash\n",
    "from dash import Dash, dcc, html, Input, Output\n",
    "import plotly.graph_objects as go"
   ]
  },
  {
   "cell_type": "code",
   "execution_count": 2,
   "metadata": {},
   "outputs": [],
   "source": [
    "# Import data\n",
    "def fetch_data():\n",
    "    file_path = \"company_esg_score.xlsx\"\n",
    "    df = pd.read_excel(file_path, header =0)\n",
    "    return df"
   ]
  },
  {
   "cell_type": "code",
   "execution_count": 3,
   "metadata": {},
   "outputs": [],
   "source": [
    "df = fetch_data()"
   ]
  },
  {
   "cell_type": "code",
   "execution_count": 4,
   "metadata": {},
   "outputs": [],
   "source": [
    "# Indicators\n",
    "e_metrics = ['Emission intensities', 'Energy consumption intensity', 'Waste generated', 'Water intensity']\n",
    "s_metrics = ['Average training hours per employee', 'Current employees by age groups (aged above 50 years old)',\n",
    "             'Current employees by gender (female)', 'Employee satisfaction rate',\n",
    "             'New hires by gender (female)', 'New hires by age (aged above 50 years old)',\n",
    "             'Total turnover', 'Turnover by gender (female)', 'Turnover by age (aged above 50 years old)',\n",
    "             'Fatalities', 'Percentage of employees covered by health insurance',\n",
    "             'High-consequence injuries', 'Work-related injuries','Company donated']\n",
    "g_metrics = ['Board independence', 'Women in the management team', 'Women on the board']"
   ]
  },
  {
   "cell_type": "code",
   "execution_count": null,
   "metadata": {},
   "outputs": [],
   "source": [
    "def create_bar_chart(values, metrics, e_metrics, s_metrics, g_metrics):\n",
    "    # Calculate values of E, S and G\n",
    "    e_values = [values[metric] for metric in e_metrics]\n",
    "    s_values = [values[metric] for metric in s_metrics]\n",
    "    g_values = [values[metric] for metric in g_metrics]\n",
    "\n",
    "    # Create the bar plot\n",
    "    fig = go.Figure()\n",
    "\n",
    "    # Bar plot of environment \n",
    "    fig.add_trace(go.Bar(\n",
    "        x = e_metrics,\n",
    "        y = e_values,\n",
    "        name = 'E (Environment)',\n",
    "        marker = dict(color = 'lightgreen'),\n",
    "        text = e_values,  \n",
    "        textposition = 'auto'\n",
    "    ))\n",
    "\n",
    "    # Bar plot of social\n",
    "    fig.add_trace(go.Bar(\n",
    "        x = s_metrics,\n",
    "        y = s_values,\n",
    "        name = 'S (Social)',\n",
    "        marker = dict(color = 'lightblue'),\n",
    "        text = s_values,  \n",
    "        textposition = 'auto' \n",
    "    ))\n",
    "\n",
    "    # Bar plot of Governance\n",
    "    fig.add_trace(go.Bar(\n",
    "        x = g_metrics,\n",
    "        y = g_values,\n",
    "        name = 'G (Governance)',\n",
    "        marker = dict(color = 'darkgreen'),\n",
    "        text = g_values,  \n",
    "        textposition = 'auto'\n",
    "    ))\n",
    "\n",
    "    # layout of the plot\n",
    "    fig.update_layout(\n",
    "        title = 'E, S, G Indicators Bar Chart',\n",
    "        barmode = 'group',  \n",
    "        xaxis = dict(title = 'Metrics', tickangle = 90),  \n",
    "        showlegend = True,  \n",
    "        margin = dict(t = 40, b = 100, l = 40, r = 40), \n",
    "        font = dict(family = \"Times New Roman\", size = 16),\n",
    "        plot_bgcolor = 'white', \n",
    "        paper_bgcolor = 'white' \n",
    "    )\n",
    "\n",
    "    return fig"
   ]
  },
  {
   "cell_type": "code",
   "execution_count": 6,
   "metadata": {},
   "outputs": [],
   "source": [
    "# Create the Dash app\n",
    "app = Dash(__name__)"
   ]
  },
  {
   "cell_type": "code",
   "execution_count": null,
   "metadata": {},
   "outputs": [],
   "source": [
    "# Set up the layout of the Dash app\n",
    "app.layout = html.Div([\n",
    "    html.H1(\"ESG Indicators\", style = {'textAlign': 'center'}),\n",
    "\n",
    "    # Display the bar plot\n",
    "    dcc.Graph(id = 'esg-bar-chart', figure = create_bar_chart(fetch_data().iloc[-1].to_dict(), e_metrics + s_metrics + g_metrics, e_metrics, s_metrics, g_metrics)),\n",
    "])"
   ]
  },
  {
   "cell_type": "code",
   "execution_count": null,
   "metadata": {},
   "outputs": [
    {
     "data": {
      "text/html": [
       "\n",
       "        <iframe\n",
       "            width=\"100%\"\n",
       "            height=\"650\"\n",
       "            src=\"http://127.0.0.1:8069/\"\n",
       "            frameborder=\"0\"\n",
       "            allowfullscreen\n",
       "            \n",
       "        ></iframe>\n",
       "        "
      ],
      "text/plain": [
       "<IPython.lib.display.IFrame at 0x11e55ce8c20>"
      ]
     },
     "metadata": {},
     "output_type": "display_data"
    }
   ],
   "source": [
    "if __name__ == \"__main__\":\n",
    "    app.run_server(debug = True, port = 8069)"
   ]
  }
 ],
 "metadata": {
  "kernelspec": {
   "display_name": "Python 3",
   "language": "python",
   "name": "python3"
  },
  "language_info": {
   "codemirror_mode": {
    "name": "ipython",
    "version": 3
   },
   "file_extension": ".py",
   "mimetype": "text/x-python",
   "name": "python",
   "nbconvert_exporter": "python",
   "pygments_lexer": "ipython3",
   "version": "3.12.5"
  }
 },
 "nbformat": 4,
 "nbformat_minor": 2
}
