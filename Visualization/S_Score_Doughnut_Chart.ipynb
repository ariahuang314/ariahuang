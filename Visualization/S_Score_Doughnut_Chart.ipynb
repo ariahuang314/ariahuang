{
 "cells": [
  {
   "cell_type": "code",
   "execution_count": 1,
   "metadata": {},
   "outputs": [],
   "source": [
    "import pandas as pd\n",
    "import dash\n",
    "from dash import Dash, dcc, html, Input, Output\n",
    "import plotly.graph_objects as go"
   ]
  },
  {
   "cell_type": "code",
   "execution_count": 2,
   "metadata": {},
   "outputs": [],
   "source": [
    "# Import data\n",
    "def fetch_data():\n",
    "    file_path = \"companies_esg_scores.xlsx\"  \n",
    "    df = pd.read_excel(file_path, header = 0)\n",
    "    return df"
   ]
  },
  {
   "cell_type": "code",
   "execution_count": 3,
   "metadata": {},
   "outputs": [],
   "source": [
    "# Calculate score\n",
    "df = fetch_data()\n",
    "s_score = df[\"S_Score\"].iloc[-1].round(2)  \n",
    "remain_s_score = (45.90 - s_score).round(2)  "
   ]
  },
  {
   "cell_type": "code",
   "execution_count": 4,
   "metadata": {},
   "outputs": [],
   "source": [
    "# Create the plot\n",
    "def create_doughnut_chart(s_score, remain_s_score):\n",
    "    fig = go.Figure()\n",
    "\n",
    "    fig.add_trace(go.Pie(\n",
    "        labels = [\"S Score\", \"\"],  \n",
    "        values = [s_score, remain_s_score], \n",
    "        hole = 0.5,  \n",
    "        marker = dict(colors = [\"lightgreen\", \"white\"]),  \n",
    "        showlegend = False,  \n",
    "        textinfo = \"value\",  \n",
    "        hoverinfo = [\"label + value\", \"none\"],  \n",
    "        customdata = [f\"{s_score}\", \"\"],  \n",
    "        texttemplate = \"%{customdata}\",\n",
    "        textfont = dict(family = \"Time New Roman\", size = 24),\n",
    "        textposition = \"inside\"\n",
    "    ))\n",
    "\n",
    "   \n",
    "    fig.update_layout(\n",
    "        annotations = [\n",
    "            dict(\n",
    "                text = \"S Score\",  \n",
    "                x = 0.5, y = 0.5,  \n",
    "                showarrow = False,\n",
    "                font = dict(family = \"Time New Roman\", size = 32)\n",
    "            )\n",
    "        ],\n",
    "        margin = dict(t = 20, b = 60, l = 40, r = 40)  \n",
    "    )\n",
    "\n",
    "    return fig"
   ]
  },
  {
   "cell_type": "code",
   "execution_count": 5,
   "metadata": {},
   "outputs": [],
   "source": [
    "# Create the Dash app\n",
    "app = dash.Dash(__name__)"
   ]
  },
  {
   "cell_type": "code",
   "execution_count": 6,
   "metadata": {},
   "outputs": [],
   "source": [
    "app.layout = html.Div([\n",
    "    dcc.Graph(id = \"s-score-chart\", figure = create_doughnut_chart(s_score, remain_s_score)),\n",
    "])"
   ]
  },
  {
   "cell_type": "code",
   "execution_count": 7,
   "metadata": {},
   "outputs": [
    {
     "data": {
      "text/html": [
       "\n",
       "        <iframe\n",
       "            width=\"100%\"\n",
       "            height=\"650\"\n",
       "            src=\"http://127.0.0.1:8067/\"\n",
       "            frameborder=\"0\"\n",
       "            allowfullscreen\n",
       "            \n",
       "        ></iframe>\n",
       "        "
      ],
      "text/plain": [
       "<IPython.lib.display.IFrame at 0x1ac34d2f2c0>"
      ]
     },
     "metadata": {},
     "output_type": "display_data"
    }
   ],
   "source": [
    "if __name__ == \"__main__\":\n",
    "    app.run_server(debug = True, port = 8067)"
   ]
  }
 ],
 "metadata": {
  "kernelspec": {
   "display_name": "Python 3",
   "language": "python",
   "name": "python3"
  },
  "language_info": {
   "codemirror_mode": {
    "name": "ipython",
    "version": 3
   },
   "file_extension": ".py",
   "mimetype": "text/x-python",
   "name": "python",
   "nbconvert_exporter": "python",
   "pygments_lexer": "ipython3",
   "version": "3.12.5"
  }
 },
 "nbformat": 4,
 "nbformat_minor": 2
}
